{
 "cells": [
  {
   "cell_type": "markdown",
   "metadata": {},
   "source": [
    "<!-- Front Matter goes here -->\n",
    "\n",
    "---\n",
    "\n",
    "title:\n",
    "author:\n",
    "date:\n",
    "tags:\n",
    "\n",
    "---"
   ]
  },
  {
   "cell_type": "markdown",
   "metadata": {},
   "source": [
    "\n",
    "\n",
    "<!-- Todo: Import from front matter -->\n",
    "\n",
    "Title\n",
    "================\n",
    "\n",
    "\n"
   ]
  },
  {
   "cell_type": "markdown",
   "metadata": {},
   "source": [
    "Introduction\n",
    "---------------------\n",
    "\n",
    "Place your introduction here. A Lit review should be performed in order to introduce a reader to the process that you are trying to gain data analysis on."
   ]
  },
  {
   "cell_type": "markdown",
   "metadata": {},
   "source": [
    "Background Information:\n",
    "------------------------\n"
   ]
  },
  {
   "cell_type": "code",
   "execution_count": 1,
   "metadata": {},
   "outputs": [],
   "source": [
    "#import project specific functions\n",
    "from functions import dataframe_splitter, build_models, build_new_polynomial_frame\n",
    "\n",
    "#import Datasciencetools\n",
    "import pandas as pd\n",
    "\n",
    "from sklearn.model_selection import train_test_split\n",
    "from sklearn.preprocessing import PolynomialFeatures\n",
    "\n",
    "from sklearn.linear_model import LinearRegression\n",
    "from sklearn.metrics import r2_score\n",
    "\n",
    "#import IPython specific tools\n",
    "from ipywidgets import widgets\n",
    "\n",
    "\n",
    "\n",
    "#OS imports\n",
    "import itertools as it\n",
    "\n",
    "import os"
   ]
  },
  {
   "cell_type": "code",
   "execution_count": null,
   "metadata": {},
   "outputs": [],
   "source": []
  },
  {
   "cell_type": "code",
   "execution_count": 5,
   "metadata": {},
   "outputs": [
    {
     "data": {
      "application/vnd.jupyter.widget-view+json": {
       "model_id": "2f771287e7fb4999b7de7d1f83f8c6aa",
       "version_major": 2,
       "version_minor": 0
      },
      "text/plain": [
       "Text(value='')"
      ]
     },
     "metadata": {},
     "output_type": "display_data"
    }
   ],
   "source": [
    "#put file paths in these strings\n",
    "inputcsv = widgets.Text()\n",
    "featureoutput = 'featureoutput.csv'\n",
    "polynomialoutput = 'polynomialoutput.csv' #so you can view the additional generated features if desired\n",
    "blueprintoutput = 'blueprintoutput.csv'\n",
    "\n",
    "inputcsv"
   ]
  }
 ],
 "metadata": {
  "kernelspec": {
   "display_name": "Python 3",
   "language": "python",
   "name": "python3"
  },
  "language_info": {
   "codemirror_mode": {
    "name": "ipython",
    "version": 3
   },
   "file_extension": ".py",
   "mimetype": "text/x-python",
   "name": "python",
   "nbconvert_exporter": "python",
   "pygments_lexer": "ipython3",
   "version": "3.6.7"
  }
 },
 "nbformat": 4,
 "nbformat_minor": 2
}
